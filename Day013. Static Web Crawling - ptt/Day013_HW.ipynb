{
 "cells": [
  {
   "cell_type": "markdown",
   "metadata": {},
   "source": [
    "# PTT 網路爬蟲實作練習\n",
    "\n",
    "\n",
    "* 能夠利用 Request + BeatifulSour 撰寫爬蟲，並存放到合適的資料結構\n"
   ]
  },
  {
   "cell_type": "markdown",
   "metadata": {},
   "source": [
    "## 作業目標\n",
    "\n",
    "根據範例 ，完成以下問題：\n",
    "\n",
    "* ① 印出最新文章的「作者」「標題」「時間」\n",
    "* ② 印出第一頁所有文章的「作者」「標題」「時間」\n"
   ]
  },
  {
   "cell_type": "markdown",
   "metadata": {},
   "source": [
    "### ① 印出最新文章的「作者」「標題」「時間」"
   ]
  },
  {
   "cell_type": "code",
   "execution_count": 1,
   "metadata": {},
   "outputs": [
    {
     "name": "stdout",
     "output_type": "stream",
     "text": [
      "Rambo [情報] ★今日排名(2019.12.09)★ 12/09\n"
     ]
    }
   ],
   "source": [
    "'''\n",
    "Your Code\n",
    "'''\n",
    "import requests\n",
    "from bs4 import BeautifulSoup\n",
    "\n",
    "url = 'https://www.ptt.cc/bbs/NBA/index.html'\n",
    "r = requests.get(url)\n",
    "\n",
    "soup = BeautifulSoup(r.text, \"html5lib\")\n",
    "\n",
    "article = soup.find(class_=\"r-ent\")\n",
    "title = article.find(class_=\"title\").find(\"a\").text\n",
    "author = article.find(class_=\"meta\").find(class_=\"author\").text\n",
    "date = article.find(class_=\"meta\").find(class_=\"date\").text\n",
    "\n",
    "print(author, title, date)        \n",
    "        "
   ]
  },
  {
   "cell_type": "markdown",
   "metadata": {},
   "source": [
    "### ② 印出第一頁所有文章的「作者」「標題」「時間」"
   ]
  },
  {
   "cell_type": "code",
   "execution_count": 2,
   "metadata": {},
   "outputs": [
    {
     "data": {
      "text/plain": [
       "[{'作者': 'hhll5566 (忽溜56)',\n",
       "  '標題': '[討論] 快艇替補這麼猛是在哈羅？',\n",
       "  '時間': 'Mon Dec  9 21:23:35 2019'},\n",
       " {'作者': 'maxknife (maxknife)',\n",
       "  '標題': '[討論] 為啥哈登50跟ad50分討論度差那麼多',\n",
       "  '時間': 'Mon Dec  9 21:29:33 2019'},\n",
       " {'作者': 'takizawahide (Val Valentino)',\n",
       "  '標題': '[討論] 太空鹿是不是飛天了  保底東冠?',\n",
       "  '時間': 'Mon Dec  9 21:41:08 2019'},\n",
       " {'作者': 'GhostFather (鬼父Oni Chichi)',\n",
       "  '標題': '[花邊] 林書豪罰球絕殺有爭議 最後0.6秒遭誤判沒',\n",
       "  '時間': 'Mon Dec  9 22:00:42 2019'},\n",
       " {'作者': 'icpolonaise (快速向上衝!!)',\n",
       "  '標題': 'Re: [討論] 歷史上的今天 CP3被交易到湖人被聯盟否決',\n",
       "  '時間': 'Mon Dec  9 22:25:08 2019'},\n",
       " {'作者': 'Expiation (Expiation)',\n",
       "  '標題': '[討論] 湖人是不是需要 Plan B?',\n",
       "  '時間': 'Mon Dec  9 22:44:58 2019'},\n",
       " {'作者': 'Vedan (味丹)',\n",
       "  '標題': '[公告] 樂透取消及未來不再開啟樂透',\n",
       "  '時間': 'Mon Jun 24 15:08:02 2019'},\n",
       " {'作者': 'qazwsx879345 (Rajon Rondo)',\n",
       "  '標題': '[公告] 版主上任相關事項',\n",
       "  '時間': 'Fri Oct 25 10:44:03 2019'},\n",
       " {'作者': 'JerroLi (銀色小刀)',\n",
       "  '標題': '[情報] SEASON Schedule 賽程 December 19–20',\n",
       "  '時間': 'Fri Nov 29 00:46:01 2019'},\n",
       " {'作者': 'dragon803 (好想去露營啊~)',\n",
       "  '標題': '[公告]是否禁止basketball top 5文章投票開始',\n",
       "  '時間': 'Sun Dec  8 23:55:00 2019'}]"
      ]
     },
     "execution_count": 2,
     "metadata": {},
     "output_type": "execute_result"
    }
   ],
   "source": [
    "'''\n",
    "Your Code\n",
    "'''\n",
    "articles = list()\n",
    "for d in soup.find_all(class_=\"title\"):\n",
    "#     print(d.text.replace('\\t', '').replace('\\n', ''))\n",
    "    try:\n",
    "        r = BeautifulSoup(requests.get('https://www.ptt.cc'+d.find('a')['href']).text, \"html5lib\")\n",
    "        article = dict()\n",
    "        for meta in r.find_all(class_=\"article-metaline\"):\n",
    "            article[meta.find(class_=\"article-meta-tag\").text] = meta.find(class_=\"article-meta-value\").text\n",
    "        \n",
    "        if article:\n",
    "#             print(article)\n",
    "            articles += [article]\n",
    "    except:\n",
    "        continue\n",
    "        \n",
    "articles"
   ]
  },
  {
   "cell_type": "markdown",
   "metadata": {},
   "source": [
    "### ③ 試著爬爬看其他版的文章"
   ]
  },
  {
   "cell_type": "code",
   "execution_count": 3,
   "metadata": {},
   "outputs": [
    {
     "name": "stdout",
     "output_type": "stream",
     "text": [
      "爆 [新聞] SUPER JUNIOR K.R.Y.確定桃園跨年！ yihchii 12/09\n",
      "20 Re: [閒聊] 2020年偶運會春節特輯演出陣容(增加中) jinyi 12/09\n",
      "38 [情報] 第29屆首爾歌謠大賞入圍名單 BunnyBerry22 12/09\n",
      "60 [情報] 2020 鄭容和 LIVE《STILL 622》IN TAIPEI icedog122 12/09\n",
      "11 [新聞] IU開嗓「隨口唱兩句」神還原冰雪奇緣2 StressND 12/09\n",
      "73 [閒聊] 新西遊記7 今日拍攝路透  jinyi 12/09\n",
      "40 [新聞] 警方將調查範圍擴大到偶像學校 StressND 12/09\n",
      "18 [新聞] TWICE遭跟蹤公司將加強警衛並採取法律措施 hvariables 12/09\n",
      "23 [新聞] 來自29國粉絲自製新歌MV獻給CL lanagrass 12/09\n",
      "9 [新聞] 剛出道就告別？ 「劉三絲」將在22日舉辦 k721102 12/09\n",
      " [公告] 韓星板板規 (2017.06.01) lucard1129 10/16\n",
      "爆 [公告] 置底 徵/讓/換 票區 lucard1129  5/20\n",
      "爆 [公告] 韓星板2018六月置底閒聊區 lucard1129  7/01\n",
      " [公告] 調整發文權限 zevix  9/27\n",
      "24 [情報] 2019年07月 來台活動/售票資訊 orange6soda  7/01\n"
     ]
    }
   ],
   "source": [
    "'''\n",
    "Your Code\n",
    "'''\n",
    "url = 'https://www.ptt.cc/bbs/KoreaStar/index.html'\n",
    "\n",
    "r = requests.get(url)\n",
    "\n",
    "soup = BeautifulSoup(r.text, \"html5lib\")\n",
    "\n",
    "articles = []\n",
    "for article in soup.find_all(class_=\"r-ent\"):\n",
    "    \n",
    "    title = article.find(class_=\"title\").find(\"a\").text\n",
    "    author = article.find(class_=\"meta\").find(class_=\"author\").text\n",
    "    date = article.find(class_=\"meta\").find(class_=\"date\").text\n",
    "    like = article.find(class_=\"nrec\").text\n",
    "\n",
    "    print(like, title, author, date)"
   ]
  },
  {
   "cell_type": "code",
   "execution_count": null,
   "metadata": {},
   "outputs": [],
   "source": []
  }
 ],
 "metadata": {
  "kernelspec": {
   "display_name": "Python 3",
   "language": "python",
   "name": "python3"
  },
  "language_info": {
   "codemirror_mode": {
    "name": "ipython",
    "version": 3
   },
   "file_extension": ".py",
   "mimetype": "text/x-python",
   "name": "python",
   "nbconvert_exporter": "python",
   "pygments_lexer": "ipython3",
   "version": "3.7.4"
  }
 },
 "nbformat": 4,
 "nbformat_minor": 2
}
