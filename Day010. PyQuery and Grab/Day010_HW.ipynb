{
 "cells": [
  {
   "cell_type": "markdown",
   "metadata": {},
   "source": [
    "# 其他工具：Grab、PyQuery\n",
    "\n",
    "\n",
    "* 利用 Grab 套件的存取 HTML 資源\n",
    "* 利用 PyQuery 套件的解析 HTML 格式\n"
   ]
  },
  {
   "cell_type": "markdown",
   "metadata": {},
   "source": [
    "## 作業目標\n",
    "\n",
    "將之前用 requests + beatifulsoup 實作的方式，改寫成 grab + pyquery，並且比較有哪些地方不同。\n",
    "\n",
    "\n",
    "\n"
   ]
  },
  {
   "cell_type": "markdown",
   "metadata": {},
   "source": [
    "## requests + BeautifulSoup\n"
   ]
  },
  {
   "cell_type": "code",
   "execution_count": 1,
   "metadata": {},
   "outputs": [
    {
     "name": "stdout",
     "output_type": "stream",
     "text": [
      "<class 'bs4.BeautifulSoup'>\n",
      "你讓我活在電影裡\n",
      "日本IKEA鯊魚\n",
      "體會到有慾望卻無法滅掉的感覺(微西斯\n",
      "謝和弦再次吸毒遭老婆檢舉事件\n",
      "一早醒來看到壞消息\n",
      "偷偷進化的嘴笨男友\n",
      "【16歲那年，我得到了IELTS 7.0】(英文進步方法)\n",
      "（更）男友說我是普妹\n",
      "香蕉貼膠帶 藝術，收藏家出365萬\n",
      "我在火車上被攻擊\n",
      "2020來了，別再回頭2019\n",
      "什麼人吸引什麼人嗎？我的歷任男友共同點\n",
      "男友耳後粉刺（內有超療癒洞洞照）\n",
      "看完MAMA/MMA的想法\n",
      "柴犬\n",
      "是EXO變了 還是只是我不了解他們\n",
      "你們很棒 表演很精彩\n",
      "又再次被黑五燒到燙手的我😭\n",
      "一人份奶油菠菜鮭魚燉飯\n",
      "噁男才不知道自己是噁男\n"
     ]
    }
   ],
   "source": [
    "'''\n",
    "Your Code\n",
    "'''\n",
    "import requests\n",
    "from bs4 import BeautifulSoup\n",
    "\n",
    "url = 'https://www.dcard.tw/f'\n",
    "r = requests.get(url)\n",
    "r.encoding = 'utf-8'\n",
    "\n",
    "soup = BeautifulSoup(r.text, \"html5lib\")\n",
    "print(type(soup))\n",
    "# print(soup.prettify())\n",
    "\n",
    "posts = soup.find_all('a', class_='PostEntry_root_V6g0rd')\n",
    "for post in posts:\n",
    "    post_title = post.find('h3', class_='Title__Text-v196i6-0 gmfDU')\n",
    "    if post_title:\n",
    "        print(post_title.text)"
   ]
  },
  {
   "cell_type": "markdown",
   "metadata": {},
   "source": [
    "## Grab + PyQuery"
   ]
  },
  {
   "cell_type": "code",
   "execution_count": 2,
   "metadata": {
    "scrolled": false
   },
   "outputs": [
    {
     "data": {
      "text/plain": [
       "bytes"
      ]
     },
     "execution_count": 2,
     "metadata": {},
     "output_type": "execute_result"
    }
   ],
   "source": [
    "'''\n",
    "Your Code\n",
    "'''\n",
    "from grab import Grab\n",
    "\n",
    "url = 'https://www.dcard.tw/f'\n",
    "\n",
    "g = Grab()\n",
    "resp = g.go(url)\n",
    "type(resp.body)"
   ]
  },
  {
   "cell_type": "code",
   "execution_count": 3,
   "metadata": {},
   "outputs": [
    {
     "data": {
      "text/plain": [
       "[<a.PostEntry_root_V6g0rd>, <a.PostEntry_root_V6g0rd>, <a.PostEntry_root_V6g0rd>, <a.PostEntry_root_V6g0rd>, <a.PostEntry_root_V6g0rd>, <a.PostEntry_root_V6g0rd>, <a.PostEntry_root_V6g0rd>, <a.PostEntry_root_V6g0rd>, <a.PostEntry_root_V6g0rd>, <a.PostEntry_root_V6g0rd>, <a.PostEntry_root_V6g0rd>, <a.PostEntry_root_V6g0rd>, <a.PostEntry_root_V6g0rd>, <a.PostEntry_root_V6g0rd>, <a.PostEntry_root_V6g0rd>, <a.PostEntry_root_V6g0rd>, <a.PostEntry_root_V6g0rd>, <a.PostEntry_root_V6g0rd>, <a.PostEntry_root_V6g0rd>, <a.PostEntry_root_V6g0rd>, <a.PostEntry_root_V6g0rd>, <a.PostEntry_root_V6g0rd>, <a.PostEntry_root_V6g0rd>, <a.PostEntry_root_V6g0rd>, <a.PostEntry_root_V6g0rd>, <a.PostEntry_root_V6g0rd>, <a.PostEntry_root_V6g0rd>, <a.PostEntry_root_V6g0rd>, <a.PostEntry_root_V6g0rd>, <a.PostEntry_root_V6g0rd>, <a.PostEntry_root_V6g0rd>, <a.PostEntry_root_V6g0rd>]"
      ]
     },
     "execution_count": 3,
     "metadata": {},
     "output_type": "execute_result"
    }
   ],
   "source": [
    "from pyquery import PyQuery as pq\n",
    "doc = pq(resp.body)\n",
    "\n",
    "main = doc('a.PostEntry_root_V6g0rd')\n",
    "main"
   ]
  },
  {
   "cell_type": "code",
   "execution_count": 4,
   "metadata": {},
   "outputs": [
    {
     "name": "stdout",
     "output_type": "stream",
     "text": [
      "你讓我活在電影裡\n",
      "日本IKEA鯊魚\n",
      "#圖解!! 為什麼妳畫不出好看的上揚眼線\n",
      "體會到有慾望卻無法滅掉的感覺(微西斯\n",
      "社團咖熱血物語——✨社團爆爆✨，快來加入成為那個咖😎\n",
      "謝和弦再次吸毒遭老婆檢舉事件\n",
      "一早醒來看到壞消息\n",
      "偷偷進化的嘴笨男友\n",
      "冬天的日本迪士尼穿搭⛄️❄️\n",
      "【16歲那年，我得到了IELTS 7.0】(英文進步方法)\n",
      "（更）男友說我是普妹\n",
      "好物研究室年終感謝祭🎉 乾爹乾媽我愛你❤️ヾ(´ε`ヾ)\n",
      "我把腸子拉出來了...？！\n",
      "香蕉貼膠帶 藝術，收藏家出365萬\n",
      "我在火車上被攻擊\n",
      "2020來了，別再回頭2019\n",
      "什麼人吸引什麼人嗎？我的歷任男友共同點\n",
      "穿自己喜歡的✨控肉女孩穿搭\n",
      "後續：警察抓到犯人了👏🏻\n",
      "男友耳後粉刺（內有超療癒洞洞照）\n",
      "抽100位CITY CAFE！ 透過定期定額投資ETF，有機會累積大財富！（新開戶立即送7-11商品卡200元↗）\n",
      "What’s In My Room 小套房,小改造\n",
      "看完MAMA/MMA的想法\n",
      "我媽生出兩個巨嬰\n",
      "柴犬\n",
      "是EXO變了 還是只是我不了解他們\n",
      "你們很棒 表演很精彩\n",
      "Red Velvet全員開通IG🎉\n",
      "又再次被黑五燒到燙手的我😭\n",
      "消費前隊友和標題殺人已經不流行了不好意思！\n",
      "一人份奶油菠菜鮭魚燉飯\n",
      "噁男才不知道自己是噁男\n"
     ]
    }
   ],
   "source": [
    "for i in range(main.size()):\n",
    "    print(main.eq(i).find('h3').text())"
   ]
  },
  {
   "cell_type": "code",
   "execution_count": null,
   "metadata": {},
   "outputs": [],
   "source": []
  }
 ],
 "metadata": {
  "kernelspec": {
   "display_name": "Python 3",
   "language": "python",
   "name": "python3"
  },
  "language_info": {
   "codemirror_mode": {
    "name": "ipython",
    "version": 3
   },
   "file_extension": ".py",
   "mimetype": "text/x-python",
   "name": "python",
   "nbconvert_exporter": "python",
   "pygments_lexer": "ipython3",
   "version": "3.7.4"
  }
 },
 "nbformat": 4,
 "nbformat_minor": 2
}
